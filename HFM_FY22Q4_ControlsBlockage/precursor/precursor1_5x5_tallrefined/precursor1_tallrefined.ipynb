{
 "cells": [
  {
   "cell_type": "markdown",
   "metadata": {
    "deletable": true,
    "editable": true
   },
   "source": [
    "# Tall precursor"
   ]
  },
  {
   "cell_type": "code",
   "execution_count": 1,
   "metadata": {
    "collapsed": true,
    "deletable": true,
    "editable": true
   },
   "outputs": [],
   "source": [
    "# Load the modules\n",
    "amrwindfedir = '/projects/wind_uq/lcheung/amrwind-frontend/'  # where amrwind-frontend resides\n",
    "import sys, os\n",
    "sys.path.insert(1, amrwindfedir)\n",
    "\n",
    "# Load the libraries\n",
    "import amrwind_frontend as amrwind\n",
    "import matplotlib.pyplot    as plt\n",
    "\n",
    "# Also ignore warnings\n",
    "import warnings\n",
    "warnings.filterwarnings('ignore')\n",
    "\n",
    "# Make all plots inline \n",
    "%matplotlib inline"
   ]
  },
  {
   "cell_type": "code",
   "execution_count": 2,
   "metadata": {
    "collapsed": true,
    "deletable": true,
    "editable": true
   },
   "outputs": [],
   "source": [
    "# Start the case\n",
    "case = amrwind.MyApp.init_nogui()"
   ]
  },
  {
   "cell_type": "code",
   "execution_count": 3,
   "metadata": {
    "collapsed": true,
    "deletable": true,
    "editable": true
   },
   "outputs": [],
   "source": [
    "# Set the time constants\n",
    "case.setAMRWindInput('time.stop_time', 20000.0)\n",
    "case.setAMRWindInput('time.max_step',  80000)\n",
    "\n",
    "case.setAMRWindInput('time.fixed_dt',  0.25)\n",
    "case.setAMRWindInput('time.checkpoint_interval',  2000)\n",
    "case.setAMRWindInput('time.plot_interval', 2000)"
   ]
  },
  {
   "cell_type": "code",
   "execution_count": 4,
   "metadata": {
    "collapsed": true,
    "deletable": true,
    "editable": true
   },
   "outputs": [],
   "source": [
    "# Set some basic parameters\n",
    "case.setAMRWindInput('incflo.physics',      ['ABL'])\n",
    "case.setAMRWindInput('incflo.verbose',      3)\n",
    "case.setAMRWindInput('io.check_file',       'chk')\n",
    "\n",
    "case.setAMRWindInput('incflo.use_godunov',  True)\n",
    "case.setAMRWindInput('incflo.godunov_type', 'weno')\n",
    "\n",
    "case.setAMRWindInput('turbulence.model',    ['OneEqKsgsM84'])\n",
    "case.setAMRWindInput('TKE.source_terms',    ['KsgsM84Src'])\n",
    "\n",
    "case.setAMRWindInput('transport.viscosity', 1.5e-05)"
   ]
  },
  {
   "cell_type": "code",
   "execution_count": 5,
   "metadata": {
    "collapsed": true,
    "deletable": true,
    "editable": true
   },
   "outputs": [],
   "source": [
    "# Set some tolerances\n",
    "tols = \"\"\"\n",
    "nodal_proj.mg_rtol                       = 1e-06               \n",
    "nodal_proj.mg_atol                       = 1e-12               \n",
    "mac_proj.mg_rtol                         = 1e-06               \n",
    "mac_proj.mg_atol                         = 1e-12               \n",
    "diffusion.mg_rtol                        = 1e-06               \n",
    "diffusion.mg_atol                        = 1e-12               \n",
    "temperature_diffusion.mg_rtol            = 1e-10               \n",
    "temperature_diffusion.mg_atol            = 1e-13               \n",
    "\"\"\"\n",
    "case.loadAMRWindInput(tols, string=True);"
   ]
  },
  {
   "cell_type": "code",
   "execution_count": 6,
   "metadata": {
    "collapsed": true,
    "deletable": true,
    "editable": true
   },
   "outputs": [],
   "source": [
    "case.setAMRWindInput('geometry.prob_lo', [   0.0,    0.0, 0.0 ])\n",
    "case.setAMRWindInput('geometry.prob_hi', [5120.0, 5120.0, 15360.0])\n",
    "case.setAMRWindInput('amr.n_cell',       [64,     64,     192])\n",
    "case.setAMRWindInput('amr.max_level',    3)"
   ]
  },
  {
   "cell_type": "code",
   "execution_count": 7,
   "metadata": {
    "collapsed": true,
    "deletable": true,
    "editable": true
   },
   "outputs": [],
   "source": [
    "case.setAMRWindInput('is_periodicx', True)\n",
    "case.setAMRWindInput('is_periodicy', True)\n",
    "case.setAMRWindInput('is_periodicz', False)\n",
    "\n",
    "case.setAMRWindInput('zlo.type',              'wall_model')          \n",
    "case.setAMRWindInput('zlo.temperature_type',  'wall_model')          \n",
    "case.setAMRWindInput('zlo.tke_type',          'zero_gradient')       \n",
    "case.setAMRWindInput('zhi.type',              'slip_wall')           \n",
    "case.setAMRWindInput('zhi.temperature_type',  'fixed_gradient')      \n",
    "case.setAMRWindInput('zhi.temperature',       0.003) "
   ]
  },
  {
   "cell_type": "code",
   "execution_count": 8,
   "metadata": {
    "collapsed": false,
    "deletable": true,
    "editable": true
   },
   "outputs": [
    {
     "name": "stdout",
     "output_type": "stream",
     "text": [
      "CANNOT update: ABLMeanBoussinesq use forcechange=True in setval()\n"
     ]
    }
   ],
   "source": [
    "case.setAMRWindInput('ICNS.source_terms',     ['ABLForcing','BoussinesqBuoyancy', 'CoriolisForcing'])\n",
    "\n",
    "case.setAMRWindInput('ABL.stats_output_frequency',   1)                   \n",
    "case.setAMRWindInput('ABL.stats_output_format',      'netcdf')\n",
    "\n",
    "case.setAMRWindInput('incflo.velocity',     [6.3639610306789285, 6.3639610306789285, 0.0])\n",
    "case.setAMRWindInput('ABLForcing.abl_forcing_height',   150)\n",
    "case.setAMRWindInput('ABL.kappa',                       0.4) \n",
    "\n",
    "case.setAMRWindInput('ABL.normal_direction',      2)\n",
    "case.setAMRWindInput('ABL.surface_roughness_z0',  0.0001)\n",
    "case.setAMRWindInput('ABL.reference_temperature', 300.0)\n",
    "case.setAMRWindInput('ABL.surface_temp_rate',     0.0)\n",
    "case.setAMRWindInput('ABL.surface_temp_flux',     0.0)\n",
    "\n",
    "case.setAMRWindInput('ABL.mo_beta_m',             16.0)\n",
    "case.setAMRWindInput('ABL.mo_gamma_m',            5.0)\n",
    "case.setAMRWindInput('ABL.mo_gamma_h',            5.0)\n",
    "case.setAMRWindInput('ABL.random_gauss_mean',     0.0)\n",
    "case.setAMRWindInput('ABL.random_gauss_var',      1.0)"
   ]
  },
  {
   "cell_type": "code",
   "execution_count": 9,
   "metadata": {
    "collapsed": true,
    "deletable": true,
    "editable": true
   },
   "outputs": [],
   "source": [
    "case.setAMRWindInput('CoriolisForcing.latitude',  41.5)\n",
    "case.setAMRWindInput('BoussinesqBuoyancy.reference_temperature', 300) \n",
    "\n",
    "case.setAMRWindInput('ABL.temperature_heights', '0     6000.0 6100.0 15360.0')\n",
    "case.setAMRWindInput('ABL.temperature_values',  '300.0 300.0  301.0 328.78')"
   ]
  },
  {
   "cell_type": "code",
   "execution_count": 10,
   "metadata": {
    "collapsed": true,
    "deletable": true,
    "editable": true
   },
   "outputs": [],
   "source": [
    "# This is a case where we don't want to use the defaults in amrwind-frontend\n",
    "case.setAMRWindInput('ABL.perturb_ref_height', 50.0)\n",
    "case.setAMRWindInput('ABL.Uperiods', 4.0)\n",
    "case.setAMRWindInput('ABL.Vperiods', 4.0)\n",
    "case.setAMRWindInput('ABL.deltaU',   1.0)\n",
    "case.setAMRWindInput('ABL.deltaV',   1.0)\n",
    "case.setAMRWindInput('ABL.theta_amplitude',   None)\n",
    "case.setAMRWindInput('ABL.cutoff_height',   None)"
   ]
  },
  {
   "cell_type": "code",
   "execution_count": 11,
   "metadata": {
    "collapsed": true,
    "deletable": true,
    "editable": true
   },
   "outputs": [],
   "source": [
    "case.setAMRWindInput('time.plot_interval',        2000)\n",
    "\n",
    "case.setAMRWindInput('incflo.post_processing',    ['sampling'])            \n",
    "case.setAMRWindInput('sampling.output_frequency', 1000)                 \n",
    "case.setAMRWindInput('sampling.fields',           ['velocity', 'temperature'])"
   ]
  },
  {
   "cell_type": "code",
   "execution_count": 12,
   "metadata": {
    "collapsed": true
   },
   "outputs": [],
   "source": [
    "### ADD REFINEMENT WINDOWS\n",
    "\n",
    "## -- level 0 --\n",
    "# Get the default dictionary for refinement window\n",
    "refinewin = case.get_default_taggingdict()\n",
    "# Edit the parameters of the refinement window\n",
    "refinewin['tagging_name']         = 'box1'\n",
    "refinewin['tagging_shapes']       = 'box1'\n",
    "refinewin['tagging_type']         = 'GeometryRefinement'\n",
    "refinewin['tagging_level']        = 0\n",
    "refinewin['tagging_geom_type']    = 'box'\n",
    "refinewin['tagging_geom_origin']  = [0, 0, 0]\n",
    "refinewin['tagging_geom_xaxis']   = [5120, 0, 0]\n",
    "refinewin['tagging_geom_yaxis']   = [0, 5120, 0]\n",
    "refinewin['tagging_geom_zaxis']   = [0, 0, 7680]\n",
    "# Add refinement zone to simulation.\n",
    "case.add_tagging(refinewin)\n",
    "\n",
    "## -- level 2 --\n",
    "# Get the default dictionary for refinement window\n",
    "refinewin = case.get_default_taggingdict()\n",
    "# Edit the parameters of the refinement window\n",
    "refinewin['tagging_name']         = 'box2'\n",
    "refinewin['tagging_shapes']       = 'box2'\n",
    "refinewin['tagging_type']         = 'GeometryRefinement'\n",
    "refinewin['tagging_level']        = 1\n",
    "refinewin['tagging_geom_type']    = 'box'\n",
    "refinewin['tagging_geom_origin']  = [0, 0, 0]\n",
    "refinewin['tagging_geom_xaxis']   = [5120, 0, 0]\n",
    "refinewin['tagging_geom_yaxis']   = [0, 5120, 0]\n",
    "refinewin['tagging_geom_zaxis']   = [0, 0, 5120]\n",
    "# Add refinement zone to simulation.\n",
    "case.add_tagging(refinewin)\n",
    "\n",
    "## -- level 3 --\n",
    "# Get the default dictionary for refinement window\n",
    "refinewin = case.get_default_taggingdict()\n",
    "# Edit the parameters of the refinement window\n",
    "refinewin['tagging_name']         = 'box3'\n",
    "refinewin['tagging_shapes']       = 'box3'\n",
    "refinewin['tagging_type']         = 'GeometryRefinement'\n",
    "refinewin['tagging_level']        = 2\n",
    "refinewin['tagging_geom_type']    = 'box'\n",
    "refinewin['tagging_geom_origin']  = [0, 0, 0]\n",
    "refinewin['tagging_geom_xaxis']   = [5120, 0, 0]\n",
    "refinewin['tagging_geom_yaxis']   = [0, 5120, 0]\n",
    "refinewin['tagging_geom_zaxis']   = [0, 0, 1920]\n",
    "# Add refinement zone to simulation.\n",
    "case.add_tagging(refinewin)"
   ]
  },
  {
   "cell_type": "code",
   "execution_count": 13,
   "metadata": {
    "collapsed": true,
    "deletable": true,
    "editable": true
   },
   "outputs": [],
   "source": [
    "sampleplane = case.get_default_samplingdict()\n",
    "# Modify the geometry\n",
    "sampleplane['sampling_name']         = 'p_hub'\n",
    "sampleplane['sampling_type']         = 'PlaneSampler'\n",
    "sampleplane['sampling_p_num_points'] = [513, 513]\n",
    "sampleplane['sampling_p_origin']     = [0, 0, 0]\n",
    "sampleplane['sampling_p_axis1']      = [5120, 0, 0]\n",
    "sampleplane['sampling_p_axis2']      = [0, 5120, 0]\n",
    "sampleplane['sampling_p_normal']     = [0, 0, 1]\n",
    "sampleplane['sampling_p_offsets']    = '30 150 270'\n",
    "case.add_sampling(sampleplane)"
   ]
  },
  {
   "cell_type": "markdown",
   "metadata": {
    "deletable": true,
    "editable": true
   },
   "source": [
    "## Plot the domain"
   ]
  },
  {
   "cell_type": "code",
   "execution_count": 14,
   "metadata": {
    "collapsed": false
   },
   "outputs": [
    {
     "data": {
      "image/png": "[encoded data removed]",
      "text/plain": [
       "<matplotlib.figure.Figure at 0x7fffa7e80910>"
      ]
     },
     "metadata": {},
     "output_type": "display_data"
    }
   ],
   "source": [
    "fig, ax = plt.subplots(figsize=(7,7), facecolor='w', dpi=125)\n",
    "\n",
    "# Set any additional items to plot\n",
    "case.popup_storteddata['plotdomain']['plot_sampleprobes']    = [] #['p_hub']\n",
    "case.popup_storteddata['plotdomain']['plot_chooseview']      = 'XY' \n",
    "case.popup_storteddata['plotdomain']['plot_refineboxes']     = [] \n",
    "case.plotDomain(ax=ax)"
   ]
  },
  {
   "cell_type": "code",
   "execution_count": 15,
   "metadata": {
    "collapsed": false,
    "deletable": true,
    "editable": true
   },
   "outputs": [
    {
     "data": {
      "text/plain": [
       "<matplotlib.text.Text at 0x7fffa7c1ccd0>"
      ]
     },
     "execution_count": 15,
     "metadata": {},
     "output_type": "execute_result"
    },
    {
     "data": {
      "image/png": "[encoded data removed]",
      "text/plain": [
       "<matplotlib.figure.Figure at 0x7fffa7e614d0>"
      ]
     },
     "metadata": {},
     "output_type": "display_data"
    }
   ],
   "source": [
    "fig, axs = plt.subplots(1,2, figsize=(8,7), facecolor='w', dpi=125, sharey=True)\n",
    "\n",
    "# Set any additional items to plot\n",
    "case.popup_storteddata['plotdomain']['plot_sampleprobes']    = [] #['p_hub']\n",
    "case.popup_storteddata['plotdomain']['plot_chooseview']      = 'XZ' \n",
    "case.popup_storteddata['plotdomain']['plot_refineboxes']     = ['box1', 'box2', 'box3'] \n",
    "case.plotDomain(ax=axs[0])\n",
    "axs[0].set_title('Domain resolution')\n",
    "\n",
    "case.plotGenericProfile('ABL.temperature_values', 'ABL.temperature_heights', ax=axs[1])\n",
    "axs[1].set_ylim([0,16000])\n",
    "axs[1].set_xlabel('Temperature [K]')\n",
    "axs[1].set_title('Temperature Profile')"
   ]
  },
  {
   "cell_type": "code",
   "execution_count": 16,
   "metadata": {
    "collapsed": false,
    "deletable": true,
    "editable": true
   },
   "outputs": [
    {
     "name": "stdout",
     "output_type": "stream",
     "text": [
      "-- Checking inputs --\n",
      "[ PASS] max_level:           max_level = 3 >= 0\n",
      "[ PASS] dt & CFL:            DT and CFL OK\n",
      "[ PASS] Actuator physics:    incflo.physics and ICNS.source_terms OK for Actuators\n",
      "[ SKIP] Actuator FST:        No Actuators\n",
      "[ PASS] Sampling probes:p_hub \n",
      "\n",
      "Results: \n",
      " 4 PASS\n",
      " 1 SKIP\n",
      " 0 FAIL\n",
      " 0 WARN\n"
     ]
    }
   ],
   "source": [
    "check=case.validate()"
   ]
  },
  {
   "cell_type": "code",
   "execution_count": 17,
   "metadata": {
    "collapsed": false
   },
   "outputs": [
    {
     "name": "stdout",
     "output_type": "stream",
     "text": [
      "Refinement box1: level 1: 3145728 cells\n",
      "Refinement box2: level 2: 16777216 cells\n",
      "Refinement box3: level 3: 50331648 cells\n",
      "ESTIMATED MESH SIZE\n",
      "   Level       Ncells                      Cell Size\n",
      "       0       786432             80.0 x 80.0 x 80.0\n",
      "       1      3145728             40.0 x 40.0 x 40.0\n",
      "       2     16777216             20.0 x 20.0 x 20.0\n",
      "       3     50331648             10.0 x 10.0 x 10.0\n",
      "  TOTAL:     71041024\n"
     ]
    }
   ],
   "source": [
    "# Estimate mesh size\n",
    "case.estimateMeshSize()"
   ]
  },
  {
   "cell_type": "code",
   "execution_count": 18,
   "metadata": {
    "collapsed": false,
    "deletable": true,
    "editable": true,
    "scrolled": false
   },
   "outputs": [
    {
     "name": "stdout",
     "output_type": "stream",
     "text": [
      "# --- Simulation time control parameters ---\n",
      "time.stop_time                           = 20000.0             # Max (simulated) time to evolve [s]\n",
      "time.max_step                            = 80000               \n",
      "time.fixed_dt                            = 0.25                # Fixed timestep size (in seconds). If negative, then time.cfl is used\n",
      "time.checkpoint_interval                 = 2000                \n",
      "incflo.physics                           = ABL                 # List of physics models to include in simulation.\n",
      "incflo.verbose                           = 3                   \n",
      "io.check_file                            = chk                 \n",
      "incflo.use_godunov                       = true                \n",
      "incflo.godunov_type                      = weno                \n",
      "turbulence.model                         = OneEqKsgsM84        \n",
      "TKE.source_terms                         = KsgsM84Src          \n",
      "nodal_proj.mg_rtol                       = 1e-06               \n",
      "nodal_proj.mg_atol                       = 1e-12               \n",
      "mac_proj.mg_rtol                         = 1e-06               \n",
      "mac_proj.mg_atol                         = 1e-12               \n",
      "diffusion.mg_rtol                        = 1e-06               \n",
      "diffusion.mg_atol                        = 1e-12               \n",
      "temperature_diffusion.mg_rtol            = 1e-10               \n",
      "temperature_diffusion.mg_atol            = 1e-13               \n",
      "incflo.gravity                           = 0.0 0.0 -9.81       # Gravitational acceleration vector (x,y,z) [m/s^2]\n",
      "incflo.density                           = 1.0                 # Fluid density [kg/m^3]\n",
      "transport.viscosity                      = 1.5e-05             # Fluid dynamic viscosity [kg/m-s]\n",
      "transport.laminar_prandtl                = 0.7                 # Laminar prandtl number\n",
      "transport.turbulent_prandtl              = 0.3333              # Turbulent prandtl number\n",
      "\n",
      "# --- Geometry and Mesh ---\n",
      "geometry.prob_lo                         = 0.0 0.0 0.0         \n",
      "geometry.prob_hi                         = 5120.0 5120.0 15360.0\n",
      "amr.n_cell                               = 64 64 192           # Number of cells in x, y, and z directions\n",
      "amr.max_level                            = 3                   \n",
      "geometry.is_periodic                     = 1 1 0               \n",
      "zlo.type                                 = wall_model          \n",
      "zlo.temperature_type                     = wall_model          \n",
      "zlo.tke_type                             = zero_gradient       \n",
      "zhi.type                                 = slip_wall           \n",
      "zhi.temperature_type                     = fixed_gradient      \n",
      "zhi.temperature                          = 0.003               \n",
      "\n",
      "# --- ABL parameters ---\n",
      "ICNS.source_terms                        = ABLForcing BoussinesqBuoyancy CoriolisForcing  \n",
      "ABL.stats_output_frequency               = 1                   \n",
      "ABL.stats_output_format                  = netcdf              \n",
      "incflo.velocity                          = 6.36396103068 6.36396103068 0.0\n",
      "ABLForcing.abl_forcing_height            = 150.0               \n",
      "ABL.kappa                                = 0.4                 \n",
      "ABL.normal_direction                     = 2                   \n",
      "ABL.surface_roughness_z0                 = 0.0001              \n",
      "ABL.reference_temperature                = 300.0               \n",
      "ABL.surface_temp_rate                    = 0.0                 \n",
      "ABL.surface_temp_flux                    = 0.0                 # Surface temperature flux [K-m/s]\n",
      "ABL.mo_beta_m                            = 16.0                # Monin-Obukhov Beta m parameter\n",
      "ABL.mo_gamma_m                           = 5.0                 # Monin-Obukhov Gamma m parameter\n",
      "ABL.mo_gamma_h                           = 5.0                 # Monin-Obukhov Gamma h parameter\n",
      "ABL.random_gauss_mean                    = 0.0                 \n",
      "ABL.random_gauss_var                     = 1.0                 \n",
      "CoriolisForcing.latitude                 = 41.5                \n",
      "CoriolisForcing.rotational_time_period   = 86164.0900027       \n",
      "CoriolisForcing.north_vector             = 0.0 1.0 0.0         \n",
      "CoriolisForcing.east_vector              = 1.0 0.0 0.0         \n",
      "BoussinesqBuoyancy.reference_temperature = 300.0               \n",
      "ABL.temperature_heights                  = 0     6000.0 6100.0 15360.0\n",
      "ABL.temperature_values                   = 300.0 300.0  301.0 328.78\n",
      "ABL.perturb_velocity                     = false               \n",
      "ABL.perturb_ref_height                   = 50.0                \n",
      "ABL.Uperiods                             = 4.0                 \n",
      "ABL.Vperiods                             = 4.0                 \n",
      "ABL.deltaU                               = 1.0                 \n",
      "ABL.deltaV                               = 1.0                 \n",
      "ABL.perturb_temperature                  = false               \n",
      "time.plot_interval                       = 2000                \n",
      "io.plot_file                             = plt                 \n",
      "io.KE_int                                = -1                  \n",
      "incflo.post_processing                   = sampling            \n",
      "\n",
      "# --- Sampling parameters ---\n",
      "sampling.output_frequency                = 1000                \n",
      "sampling.fields                          = velocity temperature\n",
      "Actuator.JoukowskyDisk.num_blades        = 3                   # Number of wind turbine blades\n",
      "Actuator.JoukowskyDisk.use_tip_correction = true                # Turn on tip correction\n",
      "Actuator.JoukowskyDisk.use_root_correction = true                # Turn on root correction\n",
      "\n",
      "#---- sample defs ----\n",
      "sampling.labels                          = p_hub               \n",
      "sampling.p_hub.type                      = PlaneSampler        \n",
      "sampling.p_hub.num_points                = 513 513             \n",
      "sampling.p_hub.origin                    = 0.0 0.0 0.0         \n",
      "sampling.p_hub.axis1                     = 5120.0 0.0 0.0      \n",
      "sampling.p_hub.axis2                     = 0.0 5120.0 0.0      \n",
      "sampling.p_hub.normal                    = 0.0 0.0 1.0         \n",
      "sampling.p_hub.offsets                   = 30 150 270          \n",
      "\n",
      "#---- tagging defs ----\n",
      "tagging.labels                           = box1 box2 box3      \n",
      "tagging.box1.type                        = GeometryRefinement  \n",
      "tagging.box1.shapes                      = box1                \n",
      "tagging.box1.level                       = 0                   \n",
      "tagging.box1.box1.type                   = box                 \n",
      "tagging.box1.box1.origin                 = 0.0 0.0 0.0         \n",
      "tagging.box1.box1.xaxis                  = 5120.0 0.0 0.0      \n",
      "tagging.box1.box1.yaxis                  = 0.0 5120.0 0.0      \n",
      "tagging.box1.box1.zaxis                  = 0.0 0.0 7680.0      \n",
      "tagging.box2.type                        = GeometryRefinement  \n",
      "tagging.box2.shapes                      = box2                \n",
      "tagging.box2.level                       = 1                   \n",
      "tagging.box2.box2.type                   = box                 \n",
      "tagging.box2.box2.origin                 = 0.0 0.0 0.0         \n",
      "tagging.box2.box2.xaxis                  = 5120.0 0.0 0.0      \n",
      "tagging.box2.box2.yaxis                  = 0.0 5120.0 0.0      \n",
      "tagging.box2.box2.zaxis                  = 0.0 0.0 5120.0      \n",
      "tagging.box3.type                        = GeometryRefinement  \n",
      "tagging.box3.shapes                      = box3                \n",
      "tagging.box3.level                       = 2                   \n",
      "tagging.box3.box3.type                   = box                 \n",
      "tagging.box3.box3.origin                 = 0.0 0.0 0.0         \n",
      "tagging.box3.box3.xaxis                  = 5120.0 0.0 0.0      \n",
      "tagging.box3.box3.yaxis                  = 0.0 5120.0 0.0      \n",
      "tagging.box3.box3.zaxis                  = 0.0 0.0 1920.0      \n",
      "\n",
      "#---- extra params ----\n",
      "#== END AMR-WIND INPUT ==\n",
      "\n"
     ]
    }
   ],
   "source": [
    "# Write the input file\n",
    "print(case.writeAMRWindInput('Neutral_9mps_precursor1_tallrefined.inp'))"
   ]
  },
  {
   "cell_type": "code",
   "execution_count": null,
   "metadata": {
    "collapsed": true
   },
   "outputs": [],
   "source": []
  }
 ],
 "metadata": {
  "kernelspec": {
   "display_name": "Python 2",
   "language": "python",
   "name": "python2"
  },
  "language_info": {
   "codemirror_mode": {
    "name": "ipython",
    "version": 2
   },
   "file_extension": ".py",
   "mimetype": "text/x-python",
   "name": "python",
   "nbconvert_exporter": "python",
   "pygments_lexer": "ipython2",
   "version": "2.7.13"
  }
 },
 "nbformat": 4,
 "nbformat_minor": 2
}
