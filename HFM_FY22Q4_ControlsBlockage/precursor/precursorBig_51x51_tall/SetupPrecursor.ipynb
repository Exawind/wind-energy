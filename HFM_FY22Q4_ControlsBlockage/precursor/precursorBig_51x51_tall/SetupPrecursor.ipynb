{
 "cells": [
  {
   "cell_type": "markdown",
   "metadata": {
    "deletable": true,
    "editable": true
   },
   "source": [
    "# Create big precursor"
   ]
  },
  {
   "cell_type": "code",
   "execution_count": 1,
   "metadata": {
    "collapsed": true,
    "deletable": true,
    "editable": true
   },
   "outputs": [],
   "source": [
    "# Load the amrwind-frontend module\n",
    "amrwindfedir = '/projects/wind_uq/lcheung/amrwind-frontend'  # Location of amrwind-frontend \n",
    "import sys, os\n",
    "sys.path.insert(1, amrwindfedir)\n",
    "\n",
    "# Load the libraries\n",
    "import amrwind_frontend  as amrwind\n",
    "import matplotlib.pyplot as plt\n",
    "import numpy             as np\n",
    "import math\n",
    "\n",
    "# Also ignore warnings\n",
    "import warnings\n",
    "warnings.filterwarnings('ignore')\n",
    "\n",
    "# Make all plots inline \n",
    "%matplotlib inline"
   ]
  },
  {
   "cell_type": "code",
   "execution_count": 2,
   "metadata": {
    "collapsed": true,
    "deletable": true,
    "editable": true
   },
   "outputs": [],
   "source": [
    "# Start the AMR-Wind case\n",
    "case = amrwind.MyApp.init_nogui()"
   ]
  },
  {
   "cell_type": "code",
   "execution_count": 3,
   "metadata": {
    "collapsed": false,
    "deletable": true,
    "editable": true
   },
   "outputs": [
    {
     "name": "stdout",
     "output_type": "stream",
     "text": [
      "CANNOT update: ABLMeanBoussinesq use forcechange=True in setval()\n"
     ]
    }
   ],
   "source": [
    "# Load the starting point\n",
    "inputfile='Neutral_9mps_precursorBig_tall.inp'\n",
    "case.loadAMRWindInput(inputfile)\n",
    "outputfile='Neutral_9mps_precursorBig_tall_refined.inp'"
   ]
  },
  {
   "cell_type": "code",
   "execution_count": 4,
   "metadata": {
    "collapsed": false,
    "deletable": true,
    "editable": true
   },
   "outputs": [
    {
     "name": "stdout",
     "output_type": "stream",
     "text": [
      "lapserate = 0.000150\n"
     ]
    }
   ],
   "source": [
    "# Compute the lapse rate\n",
    "Theights = [float(x) for x in case.getAMRWindInput('ABL.temperature_heights').split()]\n",
    "Tvalues  = [float(x) for x in case.getAMRWindInput('ABL.temperature_values').split()]\n",
    "lapserate= (Tvalues[-1]-Tvalues[-2])/(Theights[-1]-Theights[-2])\n",
    "print('lapserate = %f'%lapserate)\n",
    "case.setAMRWindInput('zhi.temperature',       lapserate) "
   ]
  },
  {
   "cell_type": "code",
   "execution_count": 5,
   "metadata": {
    "collapsed": false
   },
   "outputs": [],
   "source": [
    "case.setAMRWindInput('ABL.log_law_height', 5.0)\n",
    "case.setAMRWindInput('incflo.velocity', None)\n",
    "case.setAMRWindInput('ABL.Uperiods', 40.0)\n",
    "case.setAMRWindInput('ABL.Vperiods', 40.0)"
   ]
  },
  {
   "cell_type": "markdown",
   "metadata": {
    "deletable": true,
    "editable": true
   },
   "source": [
    "## Set the geometry"
   ]
  },
  {
   "cell_type": "code",
   "execution_count": 6,
   "metadata": {
    "collapsed": true,
    "deletable": true,
    "editable": true
   },
   "outputs": [],
   "source": [
    "Lx = 51200.0\n",
    "Ly = 51200.0\n",
    "dx = 80.0\n",
    "dy = 80.0\n",
    "case.setAMRWindInput('geometry.prob_lo', [ -0.5*Lx, -0.5*Ly, 0.0 ])\n",
    "case.setAMRWindInput('geometry.prob_hi', [ +0.5*Lx, +0.5*Ly, 15360.0])\n",
    "case.setAMRWindInput('amr.n_cell',       [int(Lx/dx), int(Ly/dy), 192])\n",
    "case.setAMRWindInput('amr.max_level',    3)"
   ]
  },
  {
   "cell_type": "code",
   "execution_count": 7,
   "metadata": {
    "collapsed": true,
    "deletable": true,
    "editable": true
   },
   "outputs": [],
   "source": [
    "\n",
    "\n",
    "### ADD REFINEMENT WINDOWS\n",
    "\n",
    "## -- level 0 --\n",
    "# Get the default dictionary for refinement window\n",
    "refinewin = case.get_default_taggingdict()\n",
    "# Edit the parameters of the refinement window\n",
    "refinewin['tagging_name']         = 'box1'\n",
    "refinewin['tagging_shapes']       = 'box1'\n",
    "refinewin['tagging_type']         = 'GeometryRefinement'\n",
    "refinewin['tagging_level']        = 0\n",
    "refinewin['tagging_geom_type']    = 'box'\n",
    "refinewin['tagging_geom_origin']  = [-0.5*Lx, -0.5*Ly, 0]\n",
    "refinewin['tagging_geom_xaxis']   = [Lx, 0, 0]\n",
    "refinewin['tagging_geom_yaxis']   = [0, Ly, 0]\n",
    "refinewin['tagging_geom_zaxis']   = [0, 0, 2000]\n",
    "# Add refinement zone to simulation.\n",
    "case.add_tagging(refinewin)\n",
    "\n",
    "## -- level 1 --\n",
    "# Get the default dictionary for refinement window\n",
    "refinewin = case.get_default_taggingdict()\n",
    "# Edit the parameters of the refinement window\n",
    "refinewin['tagging_name']         = 'box2'\n",
    "refinewin['tagging_shapes']       = 'box2'\n",
    "refinewin['tagging_type']         = 'GeometryRefinement'\n",
    "refinewin['tagging_level']        = 1\n",
    "refinewin['tagging_geom_type']    = 'box'\n",
    "refinewin['tagging_geom_origin']  = [-0.5*Lx, -0.5*Ly, 0]\n",
    "refinewin['tagging_geom_xaxis']   = [Lx, 0, 0]\n",
    "refinewin['tagging_geom_yaxis']   = [0, Ly, 0]\n",
    "refinewin['tagging_geom_zaxis']   = [0, 0, 1500]\n",
    "# Add refinement zone to simulation.\n",
    "case.add_tagging(refinewin)\n",
    "\n",
    "## -- level 2 --\n",
    "# Get the default dictionary for refinement window\n",
    "refinewin = case.get_default_taggingdict()\n",
    "# Edit the parameters of the refinement window\n",
    "refinewin['tagging_name']         = 'box3'\n",
    "refinewin['tagging_shapes']       = 'box3'\n",
    "refinewin['tagging_type']         = 'GeometryRefinement'\n",
    "refinewin['tagging_level']        = 2\n",
    "refinewin['tagging_geom_type']    = 'box'\n",
    "refinewin['tagging_geom_origin']  = [-0.5*Lx, -0.5*Ly, 0]\n",
    "refinewin['tagging_geom_xaxis']   = [Lx, 0, 0]\n",
    "refinewin['tagging_geom_yaxis']   = [0, Ly, 0]\n",
    "refinewin['tagging_geom_zaxis']   = [0, 0, 1100]\n",
    "# Add refinement zone to simulation.\n",
    "case.add_tagging(refinewin)"
   ]
  },
  {
   "cell_type": "markdown",
   "metadata": {
    "deletable": true,
    "editable": true
   },
   "source": [
    "## Plot the domain"
   ]
  },
  {
   "cell_type": "code",
   "execution_count": 8,
   "metadata": {
    "collapsed": false,
    "deletable": true,
    "editable": true
   },
   "outputs": [
    {
     "data": {
      "image/png": "[encoded data removed]",
      "text/plain": [
       "<matplotlib.figure.Figure at 0x7fffa7e3e710>"
      ]
     },
     "metadata": {},
     "output_type": "display_data"
    }
   ],
   "source": [
    "fig, ax = plt.subplots(figsize=(7,7), facecolor='w', dpi=125)\n",
    "\n",
    "# Set any additional items to plot\n",
    "case.popup_storteddata['plotdomain']['plot_sampleprobes']    = [] #['p_hub']\n",
    "case.popup_storteddata['plotdomain']['plot_chooseview']      = 'XY' \n",
    "case.popup_storteddata['plotdomain']['plot_refineboxes']     = [] \n",
    "case.plotDomain(ax=ax)"
   ]
  },
  {
   "cell_type": "code",
   "execution_count": 9,
   "metadata": {
    "collapsed": false,
    "deletable": true,
    "editable": true
   },
   "outputs": [
    {
     "data": {
      "text/plain": [
       "<matplotlib.text.Text at 0x7fffa7bbac50>"
      ]
     },
     "execution_count": 9,
     "metadata": {},
     "output_type": "execute_result"
    },
    {
     "data": {
      "image/png": "[encoded data removed]",
      "text/plain": [
       "<matplotlib.figure.Figure at 0x7fffa7e14d10>"
      ]
     },
     "metadata": {},
     "output_type": "display_data"
    }
   ],
   "source": [
    "fig, axs = plt.subplots(1,2, figsize=(8,4), facecolor='w', dpi=125, sharey=True, \n",
    "                        gridspec_kw={'width_ratios': [5, 1]})\n",
    "\n",
    "# Set any additional items to plot\n",
    "case.popup_storteddata['plotdomain']['plot_sampleprobes']    = [] #['p_hub']\n",
    "case.popup_storteddata['plotdomain']['plot_chooseview']      = 'XZ' \n",
    "case.popup_storteddata['plotdomain']['plot_refineboxes']     = ['box1', 'box2', 'box3'] \n",
    "case.plotDomain(ax=axs[0])\n",
    "axs[0].set_title('Domain resolution')\n",
    "axs[0].set_xlim([-0.5*Lx, 0.5*Lx])\n",
    "#axs[0].axis('scaled')\n",
    "\n",
    "case.plotGenericProfile('ABL.temperature_values', 'ABL.temperature_heights', ax=axs[1])\n",
    "#axs[1].set_ylim([0,16000])\n",
    "axs[1].set_xlabel('Temperature [K]')\n",
    "axs[1].set_title('Temperature Profile')"
   ]
  },
  {
   "cell_type": "markdown",
   "metadata": {
    "deletable": true,
    "editable": true
   },
   "source": [
    "## Add sampling planes"
   ]
  },
  {
   "cell_type": "code",
   "execution_count": 10,
   "metadata": {
    "collapsed": true,
    "deletable": true,
    "editable": true
   },
   "outputs": [],
   "source": [
    "sampleplane = case.get_default_samplingdict()\n",
    "# Modify the geometry\n",
    "sampleplane['sampling_name']         = 'p_hub'\n",
    "sampleplane['sampling_type']         = 'PlaneSampler'\n",
    "sampleplane['sampling_p_num_points'] = [int(Lx/40.0)+1, int(Ly/40.0)+1]\n",
    "sampleplane['sampling_p_origin']     = [-0.5*Lx, -0.5*Ly, 0]\n",
    "sampleplane['sampling_p_axis1']      = [Lx, 0, 0]\n",
    "sampleplane['sampling_p_axis2']      = [0, Ly, 0]\n",
    "sampleplane['sampling_p_normal']     = [0, 0, 1]\n",
    "sampleplane['sampling_p_offsets']    = '30 150 270'\n",
    "case.add_sampling(sampleplane)"
   ]
  },
  {
   "cell_type": "code",
   "execution_count": 11,
   "metadata": {
    "collapsed": false,
    "deletable": true,
    "editable": true
   },
   "outputs": [
    {
     "data": {
      "image/png": "[encoded data removed]",
      "text/plain": [
       "<matplotlib.figure.Figure at 0x7fffe7aa2710>"
      ]
     },
     "metadata": {},
     "output_type": "display_data"
    }
   ],
   "source": [
    "fig, ax = plt.subplots(figsize=(7,7), facecolor='w', dpi=125)\n",
    "\n",
    "# Set any additional items to plot\n",
    "case.popup_storteddata['plotdomain']['plot_sampleprobes']    = ['p_hub']\n",
    "case.popup_storteddata['plotdomain']['plot_chooseview']      = 'XY' \n",
    "case.popup_storteddata['plotdomain']['plot_refineboxes']     = [] \n",
    "case.plotDomain(ax=ax)"
   ]
  },
  {
   "cell_type": "markdown",
   "metadata": {
    "deletable": true,
    "editable": true
   },
   "source": [
    "## Check and validate"
   ]
  },
  {
   "cell_type": "code",
   "execution_count": 12,
   "metadata": {
    "collapsed": false,
    "deletable": true,
    "editable": true
   },
   "outputs": [
    {
     "name": "stdout",
     "output_type": "stream",
     "text": [
      "-- Checking inputs --\n",
      "[ PASS] max_level:           max_level = 3 >= 0\n",
      "[ PASS] dt & CFL:            DT and CFL OK\n",
      "[ PASS] Actuator physics:    incflo.physics and ICNS.source_terms OK for Actuators\n",
      "[ SKIP] Actuator FST:        No Actuators\n",
      "[ PASS] Sampling probes:p_hub \n",
      "\n",
      "Results: \n",
      " 4 PASS\n",
      " 1 SKIP\n",
      " 0 FAIL\n",
      " 0 WARN\n"
     ]
    }
   ],
   "source": [
    "check=case.validate()"
   ]
  },
  {
   "cell_type": "code",
   "execution_count": 13,
   "metadata": {
    "collapsed": false,
    "deletable": true,
    "editable": true
   },
   "outputs": [
    {
     "name": "stdout",
     "output_type": "stream",
     "text": [
      "Refinement box1: level 1: 81920000 cells\n",
      "Refinement box2: level 2: 491520000 cells\n",
      "Refinement box3: level 3: 2883584000 cells\n",
      "ESTIMATED MESH SIZE\n",
      "   Level       Ncells                      Cell Size\n",
      "       0     78643200             80.0 x 80.0 x 80.0\n",
      "       1     81920000             40.0 x 40.0 x 40.0\n",
      "       2    491520000             20.0 x 20.0 x 20.0\n",
      "       3   2883584000             10.0 x 10.0 x 10.0\n",
      "  TOTAL:   3535667200\n"
     ]
    }
   ],
   "source": [
    "# Estimate mesh size\n",
    "case.estimateMeshSize()"
   ]
  },
  {
   "cell_type": "markdown",
   "metadata": {
    "deletable": true,
    "editable": true
   },
   "source": [
    "## Write input file"
   ]
  },
  {
   "cell_type": "code",
   "execution_count": 14,
   "metadata": {
    "collapsed": false,
    "deletable": true,
    "editable": true,
    "scrolled": false
   },
   "outputs": [
    {
     "name": "stdout",
     "output_type": "stream",
     "text": [
      "# --- Simulation time control parameters ---\n",
      "time.stop_time                           = 30000.0             # Max (simulated) time to evolve [s]\n",
      "time.max_step                            = 120000              \n",
      "time.fixed_dt                            = 0.25                # Fixed timestep size (in seconds). If negative, then time.cfl is used\n",
      "time.checkpoint_interval                 = 2000                \n",
      "incflo.physics                           = ABL                 # List of physics models to include in simulation.\n",
      "incflo.verbose                           = 3                   \n",
      "io.check_file                            = chk                 \n",
      "incflo.use_godunov                       = true                \n",
      "incflo.godunov_type                      = weno_z              \n",
      "incflo.diffusion_type                    = 1                   # Type of diffusion scheme used.  0 = explicit diffusion, 1 = Crank-Nicolson, 2 = fully implicit\n",
      "turbulence.model                         = OneEqKsgsM84        \n",
      "TKE.source_terms                         = KsgsM84Src          \n",
      "nodal_proj.mg_rtol                       = 1e-06               \n",
      "nodal_proj.mg_atol                       = 1e-12               \n",
      "mac_proj.mg_rtol                         = 1e-06               \n",
      "mac_proj.mg_atol                         = 1e-12               \n",
      "diffusion.mg_rtol                        = 1e-06               \n",
      "diffusion.mg_atol                        = 1e-12               \n",
      "temperature_diffusion.mg_rtol            = 1e-10               \n",
      "temperature_diffusion.mg_atol            = 1e-13               \n",
      "incflo.gravity                           = 0.0 0.0 -9.81       # Gravitational acceleration vector (x,y,z) [m/s^2]\n",
      "incflo.density                           = 1.0                 # Fluid density [kg/m^3]\n",
      "transport.viscosity                      = 1.5e-05             # Fluid dynamic viscosity [kg/m-s]\n",
      "transport.laminar_prandtl                = 0.7                 # Laminar prandtl number\n",
      "transport.turbulent_prandtl              = 0.3333              # Turbulent prandtl number\n",
      "\n",
      "# --- Geometry and Mesh ---\n",
      "geometry.prob_lo                         = -25600.0 -25600.0 0.0\n",
      "geometry.prob_hi                         = 25600.0 25600.0 15360.0\n",
      "amr.n_cell                               = 640 640 192         # Number of cells in x, y, and z directions\n",
      "amr.max_level                            = 3                   \n",
      "geometry.is_periodic                     = 1 1 0               \n",
      "zlo.type                                 = wall_model          \n",
      "zlo.temperature_type                     = wall_model          \n",
      "zlo.tke_type                             = zero_gradient       \n",
      "zhi.type                                 = slip_wall           \n",
      "zhi.temperature_type                     = fixed_gradient      \n",
      "zhi.temperature                          = 0.00015             \n",
      "\n",
      "# --- ABL parameters ---\n",
      "ICNS.source_terms                        = ABLForcing BoussinesqBuoyancy CoriolisForcing   \n",
      "ABL.stats_output_frequency               = 1                   \n",
      "ABL.stats_output_format                  = netcdf              \n",
      "ABL.bndry_io_mode                        = 0                   \n",
      "ABL.bndry_file                           = bndry_fdata         \n",
      "ABL.bndry_planes                         = xlo ylo             \n",
      "ABL.bndry_output_start_time              = 20000.0             \n",
      "ABL.bndry_var_names                      = velocity temperature tke\n",
      "ABLForcing.abl_forcing_height            = 150.0               \n",
      "ABLForcing.velocity_timetable            = time_table.txt      \n",
      "ABL.kappa                                = 0.4                 \n",
      "ABL.normal_direction                     = 2                   \n",
      "ABL.surface_roughness_z0                 = 0.0001              \n",
      "ABL.reference_temperature                = 300.0               \n",
      "ABL.surface_temp_rate                    = 0.0                 \n",
      "ABL.surface_temp_flux                    = 0.0                 # Surface temperature flux [K-m/s]\n",
      "ABL.mo_beta_m                            = 16.0                # Monin-Obukhov Beta m parameter\n",
      "ABL.mo_gamma_m                           = 5.0                 # Monin-Obukhov Gamma m parameter\n",
      "ABL.mo_gamma_h                           = 5.0                 # Monin-Obukhov Gamma h parameter\n",
      "ABL.log_law_height                       = 5.0                 \n",
      "ABL.random_gauss_mean                    = 0.0                 \n",
      "ABL.random_gauss_var                     = 1.0                 \n",
      "CoriolisForcing.latitude                 = 41.5                \n",
      "CoriolisForcing.rotational_time_period   = 86164.0900027       \n",
      "CoriolisForcing.north_vector             = 0.0 1.0 0.0         \n",
      "CoriolisForcing.east_vector              = 1.0 0.0 0.0         \n",
      "BoussinesqBuoyancy.reference_temperature = 314.4               \n",
      "ABL.temperature_heights                  = 0     750.0  850.0 15360.0\n",
      "ABL.temperature_values                   = 300.0 300.0  301.0 303.1765\n",
      "ABL.perturb_velocity                     = true                \n",
      "ABL.perturb_ref_height                   = 50.0                \n",
      "ABL.Uperiods                             = 40.0                \n",
      "ABL.Vperiods                             = 40.0                \n",
      "ABL.deltaU                               = 1.0                 \n",
      "ABL.deltaV                               = 1.0                 \n",
      "ABL.perturb_temperature                  = false               \n",
      "time.plot_interval                       = 2000                \n",
      "io.plot_file                             = plt                 \n",
      "io.KE_int                                = -1                  \n",
      "incflo.post_processing                   = sampling            \n",
      "\n",
      "# --- Sampling parameters ---\n",
      "sampling.output_frequency                = 1000                \n",
      "sampling.fields                          = velocity temperature\n",
      "\n",
      "#---- sample defs ----\n",
      "sampling.labels                          = p_hub               \n",
      "sampling.p_hub.type                      = PlaneSampler        \n",
      "sampling.p_hub.num_points                = 1281 1281           \n",
      "sampling.p_hub.origin                    = -25600.0 -25600.0 0.0\n",
      "sampling.p_hub.axis1                     = 51200.0 0.0 0.0     \n",
      "sampling.p_hub.axis2                     = 0.0 51200.0 0.0     \n",
      "sampling.p_hub.normal                    = 0.0 0.0 1.0         \n",
      "sampling.p_hub.offsets                   = 30 150 270          \n",
      "\n",
      "#---- tagging defs ----\n",
      "tagging.labels                           = box1 box2 box3      \n",
      "tagging.box1.type                        = GeometryRefinement  \n",
      "tagging.box1.shapes                      = box1                \n",
      "tagging.box1.level                       = 0                   \n",
      "tagging.box1.box1.type                   = box                 \n",
      "tagging.box1.box1.origin                 = -25600.0 -25600.0 0.0\n",
      "tagging.box1.box1.xaxis                  = 51200.0 0.0 0.0     \n",
      "tagging.box1.box1.yaxis                  = 0.0 51200.0 0.0     \n",
      "tagging.box1.box1.zaxis                  = 0.0 0.0 2000.0      \n",
      "tagging.box2.type                        = GeometryRefinement  \n",
      "tagging.box2.shapes                      = box2                \n",
      "tagging.box2.level                       = 1                   \n",
      "tagging.box2.box2.type                   = box                 \n",
      "tagging.box2.box2.origin                 = -25600.0 -25600.0 0.0\n",
      "tagging.box2.box2.xaxis                  = 51200.0 0.0 0.0     \n",
      "tagging.box2.box2.yaxis                  = 0.0 51200.0 0.0     \n",
      "tagging.box2.box2.zaxis                  = 0.0 0.0 1500.0      \n",
      "tagging.box3.type                        = GeometryRefinement  \n",
      "tagging.box3.shapes                      = box3                \n",
      "tagging.box3.level                       = 2                   \n",
      "tagging.box3.box3.type                   = box                 \n",
      "tagging.box3.box3.origin                 = -25600.0 -25600.0 0.0\n",
      "tagging.box3.box3.xaxis                  = 51200.0 0.0 0.0     \n",
      "tagging.box3.box3.yaxis                  = 0.0 51200.0 0.0     \n",
      "tagging.box3.box3.zaxis                  = 0.0 0.0 1100.0      \n",
      "\n",
      "#---- extra params ----\n",
      "#== END AMR-WIND INPUT ==\n",
      "\n"
     ]
    }
   ],
   "source": [
    "print(case.writeAMRWindInput(outputfile))"
   ]
  },
  {
   "cell_type": "code",
   "execution_count": null,
   "metadata": {
    "collapsed": true,
    "deletable": true,
    "editable": true
   },
   "outputs": [],
   "source": []
  }
 ],
 "metadata": {
  "kernelspec": {
   "display_name": "Python 2",
   "language": "python",
   "name": "python2"
  },
  "language_info": {
   "codemirror_mode": {
    "name": "ipython",
    "version": 2
   },
   "file_extension": ".py",
   "mimetype": "text/x-python",
   "name": "python",
   "nbconvert_exporter": "python",
   "pygments_lexer": "ipython2",
   "version": "2.7.13"
  }
 },
 "nbformat": 4,
 "nbformat_minor": 2
}
