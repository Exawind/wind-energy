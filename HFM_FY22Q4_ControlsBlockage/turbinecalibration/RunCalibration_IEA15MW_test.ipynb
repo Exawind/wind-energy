{
 "cells": [
  {
   "cell_type": "markdown",
   "metadata": {
    "deletable": true,
    "editable": true
   },
   "source": [
    "# Turbine check-out/calibration notebook\n",
    "\n",
    "Use this notebook to set up a series of runs for turbine calibration and check-out"
   ]
  },
  {
   "cell_type": "code",
   "execution_count": 1,
   "metadata": {
    "collapsed": true,
    "deletable": true,
    "editable": true
   },
   "outputs": [],
   "source": [
    "%%capture \n",
    "\n",
    "# Important header information\n",
    "amrwindfedir = '/projects/wind_uq/lcheung/amrwind-frontend'\n",
    "import sys, os\n",
    "sys.path.insert(1, amrwindfedir)\n",
    "\n",
    "# Load the libraries\n",
    "import matplotlib.pyplot    as plt\n",
    "import amrwind_frontend as amrwind\n",
    "import tempfile\n",
    "import shutil\n",
    "# Also ignore warnings\n",
    "import warnings\n",
    "warnings.filterwarnings('ignore')\n",
    "\n",
    "# Make all plots inline \n",
    "%matplotlib inline"
   ]
  },
  {
   "cell_type": "markdown",
   "metadata": {
    "deletable": true,
    "editable": true
   },
   "source": [
    "**Note**: Make sure there is a turbine file which looks like:"
   ]
  },
  {
   "cell_type": "code",
   "execution_count": 2,
   "metadata": {
    "collapsed": false,
    "deletable": true,
    "editable": true
   },
   "outputs": [
    {
     "name": "stdout",
     "output_type": "stream",
     "text": [
      "turbines:\n",
      "  IEA15MW_Joukowski:     # This is an arbitrary, unique name\n",
      "    turbinetype_name:    \"IEA15MW_Joukowsky\"\n",
      "    turbinetype_comment: \"Dummy layout\"   # arbitrary\n",
      "    Actuator_type:                JoukowskyDisk\n",
      "    Actuator_rotor_diameter:      240\n",
      "    Actuator_hub_height:          150     # Double-check\n",
      "    Actuator_output_frequency:    10                   \n",
      "    # --------------------\n",
      "    Actuator_diameters_to_sample: 5.0     # How far upstream to sample inflow wind\n",
      "    #Actuator_epsilon:             [5.0]   # Epsilon in Z (might need to play with this guy)\n",
      "    Actuator_num_points_r:        40      # number of radial (might need to play with this guy)\n",
      "    Actuator_num_points_t:        5       # number of pts in theta (might need to play with this guy)\n",
      "    #Actuator_vortex_core_size:    24.0    # might need to play with this\n",
      "    # --------------------\n",
      "    # These will come from\n",
      "    # https://github.com/IEAWindTask37/IEA-15-240-RWT/blob/master/performance/performance_ccblade.dat\n",
      "    # Do \n",
      "    # $ wget https://raw.githubusercontent.com/IEAWindTask37/IEA-15-240-RWT/master/performance/performance_ccblade.dat\n",
      "    # $ awk '{print $1}' performance_ccblade.dat |sed '1d' | awk '{printf(\"%s \", $0)}'\n",
      "    # $ awk '{print $2}' performance_ccblade.dat |sed '1d' | awk '{printf(\"%s \", $0)}'\n",
      "    Actuator_wind_speed:          3.0000e+00 3.5495e+00 4.0679e+00 4.5539e+00 5.0064e+00 5.4244e+00 5.8069e+00 6.1530e+00 6.4619e+00 6.7330e+00 6.9655e+00 7.1589e+00 7.3128e+00 7.4269e+00 7.5009e+00 7.5345e+00 7.5412e+00 7.5883e+00 7.6757e+00 7.8031e+00 7.9702e+00 8.1767e+00 8.4221e+00 8.7059e+00 9.0273e+00 9.3856e+00 9.7800e+00 1.0210e+01 1.0659e+01 1.0673e+01 1.1170e+01 1.1699e+01 1.2259e+01 1.2848e+01 1.3465e+01 1.4109e+01 1.4778e+01 1.5471e+01 1.6185e+01 1.6921e+01 1.7674e+01 1.8445e+01 1.9231e+01 2.0030e+01 2.0841e+01 2.1661e+01 2.2489e+01 2.3323e+01 2.4160e+01 2.5000e+01\n",
      "    Actuator_rpm:                 5.0000e+00 5.0000e+00 5.0000e+00 5.0000e+00 5.0000e+00 5.0000e+00 5.0000e+00 5.0000e+00 5.0000e+00 5.0000e+00 5.0000e+00 5.0861e+00 5.1954e+00 5.2765e+00 5.3290e+00 5.3529e+00 5.3577e+00 5.3912e+00 5.4532e+00 5.5437e+00 5.6625e+00 5.8092e+00 5.9836e+00 6.1851e+00 6.4135e+00 6.6681e+00 6.9483e+00 7.2535e+00 7.4992e+00 7.4992e+00 7.4992e+00 7.4992e+00 7.4992e+00 7.4992e+00 7.4992e+00 7.4992e+00 7.4992e+00 7.4992e+00 7.4992e+00 7.4992e+00 7.4992e+00 7.4992e+00 7.4992e+00 7.4992e+00 7.4992e+00 7.4992e+00 7.4992e+00 7.4992e+00 7.4992e+00 7.4992e+00\n",
      "    Actuator_thrust_coeff:        8.1672e-01 7.9044e-01 7.8393e-01 7.8624e-01 7.8824e-01 7.8942e-01 7.8902e-01 7.8740e-01 7.8503e-01 7.8237e-01 7.7955e-01 7.7583e-01 7.7583e-01 7.7583e-01 7.7583e-01 7.7583e-01 7.7583e-01 7.7583e-01 7.7583e-01 7.7583e-01 7.7583e-01 7.7583e-01 7.7583e-01 7.7583e-01 7.7583e-01 7.7583e-01 7.7583e-01 7.7583e-01 7.6922e-01 7.4270e-01 5.5949e-01 4.6163e-01 3.8786e-01 3.2901e-01 2.8093e-01 2.4114e-01 2.0795e-01 1.8010e-01 1.5663e-01 1.3679e-01 1.1995e-01 1.0562e-01 9.3384e-02 8.2908e-02 7.3910e-02 6.6159e-02 5.9463e-02 5.3662e-02 4.8622e-02 4.4230e-02\n",
      "    Actuator_use_tip_correction:  True\n",
      "    Actuator_use_root_correction: True    \n",
      "    Actuator_num_blades:          3\n",
      "    \n",
      "\n"
     ]
    }
   ],
   "source": [
    "with open(amrwindfedir+\"/turbines/IEA15MW.yaml\")as f: print(f.read())"
   ]
  },
  {
   "cell_type": "markdown",
   "metadata": {
    "deletable": true,
    "editable": true
   },
   "source": [
    "Note that both `Actuator_epsilon` and `Actuator_epsilon_tower` are commented out.  We can set those values later."
   ]
  },
  {
   "cell_type": "code",
   "execution_count": 3,
   "metadata": {
    "collapsed": true,
    "deletable": true,
    "editable": true
   },
   "outputs": [],
   "source": [
    "# Start the amrwind_frontend app \n",
    "case = amrwind.MyApp.init_nogui()"
   ]
  },
  {
   "cell_type": "code",
   "execution_count": 4,
   "metadata": {
    "collapsed": false,
    "deletable": true,
    "editable": true
   },
   "outputs": [
    {
     "name": "stdout",
     "output_type": "stream",
     "text": [
      "Using temporary directory: /tmp/tempturbine-o95En6\n"
     ]
    }
   ],
   "source": [
    "curdir=os.getcwd()\n",
    "\n",
    "# Create a temporary working directory and switch to it\n",
    "tempdir = tempfile.mkdtemp(prefix='tempturbine-')\n",
    "os.chdir(tempdir)\n",
    "print('Using temporary directory: '+tempdir)"
   ]
  },
  {
   "cell_type": "markdown",
   "metadata": {
    "deletable": true,
    "editable": true
   },
   "source": [
    "## Set up the basic simulation properties"
   ]
  },
  {
   "cell_type": "code",
   "execution_count": 5,
   "metadata": {
    "collapsed": true,
    "deletable": true,
    "editable": true
   },
   "outputs": [],
   "source": [
    "rhodensity = 1.0\n",
    "WS         = 11.0                                     # This is temporary, we will vary across a range below\n",
    "eps        = 5.0\n",
    "vortex_core = 24.0\n",
    "case.setAMRWindInput('useWSDir', True)\n",
    "case.setAMRWindInput('ABL_windspeed', WS, forcechange=True)\n",
    "case.setAMRWindInput('ABL_winddir', 270,  forcechange=True)\n",
    "case.ABL_calculateWindVector()"
   ]
  },
  {
   "cell_type": "code",
   "execution_count": 6,
   "metadata": {
    "collapsed": true,
    "deletable": true,
    "editable": true
   },
   "outputs": [],
   "source": [
    "case.setAMRWindInput('time_control',   ['const dt'])\n",
    "case.setAMRWindInput('time.stop_time', 360)\n",
    "case.setAMRWindInput('time.fixed_dt',  0.1)\n",
    "case.setAMRWindInput('incflo.physics', ['FreeStream', 'Actuator'])"
   ]
  },
  {
   "cell_type": "code",
   "execution_count": 7,
   "metadata": {
    "collapsed": true,
    "deletable": true,
    "editable": true
   },
   "outputs": [],
   "source": [
    "case.setAMRWindInput('ConstValue.density.value',  rhodensity)\n",
    "case.setAMRWindInput('incflo.density',            rhodensity)\n",
    "case.setAMRWindInput('incflo.velocity',           [WS, 0.0, 0.0])\n",
    "case.setAMRWindInput('ConstValue.velocity.value', [WS, 0.0, 0.0])\n",
    "case.setAMRWindInput('turbulence.model',          ['Laminar'])"
   ]
  },
  {
   "cell_type": "markdown",
   "metadata": {
    "deletable": true,
    "editable": true
   },
   "source": [
    "## Set the BC's"
   ]
  },
  {
   "cell_type": "code",
   "execution_count": 8,
   "metadata": {
    "collapsed": true,
    "deletable": true,
    "editable": true
   },
   "outputs": [],
   "source": [
    "case.setAMRWindInput('is_periodicx', False)\n",
    "case.setAMRWindInput('is_periodicy', True)\n",
    "case.setAMRWindInput('is_periodicz', True)  # False?\n",
    "\n",
    "case.setAMRWindInput('xlo.type', 'mass_inflow')\n",
    "case.setAMRWindInput('xhi.type', 'pressure_outflow')\n",
    "case.setAMRWindInput('xlo.density',  rhodensity)\n",
    "case.setAMRWindInput('xlo.velocity', [WS, 0.0, 0.0])"
   ]
  },
  {
   "cell_type": "markdown",
   "metadata": {
    "deletable": true,
    "editable": true
   },
   "source": [
    "### Set up the turbine in the domain"
   ]
  },
  {
   "cell_type": "code",
   "execution_count": 9,
   "metadata": {
    "collapsed": true,
    "deletable": true,
    "editable": true
   },
   "outputs": [],
   "source": [
    "turbinescsv=\"\"\"\n",
    "# CSV file should have columns with\n",
    "# name, x, y, type, yaw, hubheight, options\n",
    "T0,     0, 0, IEA15MW_Joukowsky, , 0.0,\n",
    "\"\"\"\n",
    "case.setAMRWindInput('turbines_csvtextbox',  turbinescsv)"
   ]
  },
  {
   "cell_type": "code",
   "execution_count": 10,
   "metadata": {
    "collapsed": false,
    "deletable": true,
    "editable": true
   },
   "outputs": [],
   "source": [
    "case.setAMRWindInput('turbines_domainsize', [2560.0*2, 960.0*2, 960.0*2])\n",
    "case.setAMRWindInput('turbines_freespace', True)   # Make this have no ground\n",
    "case.setAMRWindInput('turbines_backgroundmeshsize', 20.0)\n",
    "case.setAMRWindInput('turbines_deleteprev', True)\n",
    "\n",
    "#case.setAMRWindInput('zlo_type', 'slip_wall')\n",
    "#case.setAMRWindInput('zhi_type', 'slip_wall')"
   ]
  },
  {
   "cell_type": "code",
   "execution_count": 11,
   "metadata": {
    "collapsed": false,
    "deletable": true,
    "editable": true
   },
   "outputs": [
    {
     "data": {
      "image/png": "[encoded data removed]",
      "text/plain": [
       "<matplotlib.figure.Figure at 0x7fffa7e9c690>"
      ]
     },
     "metadata": {},
     "output_type": "display_data"
    }
   ],
   "source": [
    "# Preview the turbine layout\n",
    "fig, ax = plt.subplots(figsize=(5,5), facecolor='w', dpi=150)\n",
    "case.turbines_previewAllTurbines(ax=ax)"
   ]
  },
  {
   "cell_type": "code",
   "execution_count": 12,
   "metadata": {
    "collapsed": false,
    "deletable": true,
    "editable": true
   },
   "outputs": [
    {
     "name": "stdout",
     "output_type": "stream",
     "text": [
      "CANNOT update: ABLMeanBoussinesq use forcechange=True in setval()\n",
      "['T0']\n"
     ]
    }
   ],
   "source": [
    "# Now create the turbines\n",
    "case.turbines_createAllTurbines()\n",
    "\n",
    "# Print out existing list of turbines, just to confirm that the turbines got made\n",
    "print(case.listboxpopupwindict['listboxactuator'].getitemlist())"
   ]
  },
  {
   "cell_type": "code",
   "execution_count": 13,
   "metadata": {
    "collapsed": false,
    "deletable": true,
    "editable": true
   },
   "outputs": [],
   "source": [
    "# Set some globals\n",
    "case.setAMRWindInput('Actuator_default_type', ['JoukowskyDisk'])\n",
    "case.setAMRWindInput('Actuator_JoukowskyDisk_epsilon',       [eps], forcechange=True)  # You can change this\n",
    "case.setAMRWindInput('Actuator_JoukowskyDisk_vortex_core_size', vortex_core, forcechange=True)  # You can change this"
   ]
  },
  {
   "cell_type": "markdown",
   "metadata": {
    "deletable": true,
    "editable": true
   },
   "source": [
    "## Add turbine refinement regions"
   ]
  },
  {
   "cell_type": "code",
   "execution_count": 14,
   "metadata": {
    "collapsed": true,
    "deletable": true,
    "editable": true
   },
   "outputs": [],
   "source": [
    "refinementcsv=\"\"\"\n",
    "# CSV file should have columns with\n",
    "# level, upstream, downstream, lateral, below, above, options\n",
    "level, upstream, downstream, lateral, below, above, options\n",
    "0,     10,       10,         3,       2,     2,     center:farm   # 10m refinement\n",
    "1,     2.5,      2.5,        2.5,     1.2,   1.2,   center:farm   # 5m refinement\n",
    "#2,     1,        1,          0.75,    0.8,   0.8,  \n",
    "\"\"\"\n",
    "case.setAMRWindInput('refine_csvtextbox', refinementcsv)\n",
    "case.setAMRWindInput('refine_deleteprev', True)"
   ]
  },
  {
   "cell_type": "code",
   "execution_count": 15,
   "metadata": {
    "collapsed": false,
    "deletable": true,
    "editable": true
   },
   "outputs": [
    {
     "name": "stdout",
     "output_type": "stream",
     "text": [
      "['Farm_level_0_zone', 'Farm_level_1_zone']\n"
     ]
    }
   ],
   "source": [
    "case.refine_createAllZones()\n",
    "# Print out existing list of turbines\n",
    "print(case.listboxpopupwindict['listboxtagging'].getitemlist())"
   ]
  },
  {
   "cell_type": "code",
   "execution_count": 16,
   "metadata": {
    "collapsed": false,
    "deletable": true,
    "editable": true
   },
   "outputs": [
    {
     "name": "stdout",
     "output_type": "stream",
     "text": [
      "Plotting turbines\n"
     ]
    },
    {
     "data": {
      "image/png": "[encoded data removed]",
      "text/plain": [
       "<matplotlib.figure.Figure at 0x7fffa7e6d990>"
      ]
     },
     "metadata": {},
     "output_type": "display_data"
    }
   ],
   "source": [
    "# Plot the domain\n",
    "fig, ax2 = plt.subplots(figsize=(5,5), facecolor='w', dpi=125)\n",
    "case.popup_storteddata['plotdomain']['plot_chooseview']      = 'XY'\n",
    "case.popup_storteddata['plotdomain']['plot_turbines']        = case.listboxpopupwindict['listboxactuator'].getitemlist()\n",
    "case.popup_storteddata['plotdomain']['plot_refineboxes']     = case.listboxpopupwindict['listboxtagging'].getitemlist()\n",
    "case.plotDomain(ax=ax2)"
   ]
  },
  {
   "cell_type": "code",
   "execution_count": 17,
   "metadata": {
    "collapsed": false,
    "deletable": true,
    "editable": true
   },
   "outputs": [
    {
     "name": "stdout",
     "output_type": "stream",
     "text": [
      "Plotting turbines\n"
     ]
    },
    {
     "data": {
      "image/png": "[encoded data removed]",
      "text/plain": [
       "<matplotlib.figure.Figure at 0x7fffa7abb790>"
      ]
     },
     "metadata": {},
     "output_type": "display_data"
    }
   ],
   "source": [
    "# Plot the domain\n",
    "fig, ax2 = plt.subplots(figsize=(5,5), facecolor='w', dpi=125)\n",
    "case.popup_storteddata['plotdomain']['plot_chooseview']      = 'XZ'\n",
    "case.popup_storteddata['plotdomain']['plot_turbines']        = case.listboxpopupwindict['listboxactuator'].getitemlist()\n",
    "case.popup_storteddata['plotdomain']['plot_refineboxes']     = case.listboxpopupwindict['listboxtagging'].getitemlist()\n",
    "case.plotDomain(ax=ax2)"
   ]
  },
  {
   "cell_type": "code",
   "execution_count": 18,
   "metadata": {
    "collapsed": false,
    "deletable": true,
    "editable": true
   },
   "outputs": [
    {
     "name": "stdout",
     "output_type": "stream",
     "text": [
      "Refinement Farm_level_0_zone: level 1: 6635520 cells\n",
      "Refinement Farm_level_1_zone: level 2: 6635520 cells\n",
      "ESTIMATED MESH SIZE\n",
      "   Level       Ncells                      Cell Size\n",
      "       0      2359296             20.0 x 20.0 x 20.0\n",
      "       1      6635520             10.0 x 10.0 x 10.0\n",
      "       2      6635520                5.0 x 5.0 x 5.0\n",
      "  TOTAL:     15630336\n"
     ]
    }
   ],
   "source": [
    "case.estimateMeshSize()"
   ]
  },
  {
   "cell_type": "markdown",
   "metadata": {
    "deletable": true,
    "editable": true
   },
   "source": [
    "### Create sampling planes"
   ]
  },
  {
   "cell_type": "code",
   "execution_count": 19,
   "metadata": {
    "collapsed": true,
    "deletable": true,
    "editable": true
   },
   "outputs": [],
   "source": [
    "samplingcsv=\"\"\"\n",
    "# CSV file should have columns withturbinescsv=\n",
    "# name, type, upstream, downstream, lateral, below, above, n1, n2, options\n",
    "name, type, upstream, downstream, lateral, below, above, n1, n2, options\n",
    "#cl1, centerline, 1,  0, none, none,  none,  11, 11, none\n",
    "#rp1, rotorplane, 2,  0, none, none,  none,  11, 11, none\n",
    "#sw1, streamwise, 2,  1, 1, 0.5,  0.5,  11, 11, usedx:0.25 noffsets:1\n",
    "hh,  hubheight,2560,2560,960, 0,  none,  11, 11, usedx:10 units:meter center:farm orientation:x\n",
    "\"\"\"\n",
    "case.setAMRWindInput('sampling_csvtextbox', samplingcsv)\n",
    "case.setAMRWindInput('sampling_deleteprev', True)"
   ]
  },
  {
   "cell_type": "code",
   "execution_count": 20,
   "metadata": {
    "collapsed": false,
    "deletable": true,
    "editable": true
   },
   "outputs": [
    {
     "name": "stdout",
     "output_type": "stream",
     "text": [
      "['Farm_hh']\n"
     ]
    }
   ],
   "source": [
    "case.sampling_createAllProbes(verbose=False)\n",
    "# Print out existing list of turbines\n",
    "print(case.listboxpopupwindict['listboxsampling'].getitemlist())"
   ]
  },
  {
   "cell_type": "code",
   "execution_count": 21,
   "metadata": {
    "collapsed": false,
    "deletable": true,
    "editable": true
   },
   "outputs": [
    {
     "name": "stdout",
     "output_type": "stream",
     "text": [
      "Plotting turbines\n"
     ]
    },
    {
     "data": {
      "image/png": "[encoded data removed]",
      "text/plain": [
       "<matplotlib.figure.Figure at 0x7fffa7e42ad0>"
      ]
     },
     "metadata": {},
     "output_type": "display_data"
    }
   ],
   "source": [
    "# Plot the domain\n",
    "fig, ax = plt.subplots(figsize=(8,6), facecolor='w', dpi=125)\n",
    "case.popup_storteddata['plotdomain']['plot_chooseview']      = 'XZ'\n",
    "case.popup_storteddata['plotdomain']['plot_refineboxes']     = [] #case.listboxpopupwindict['listboxtagging'].getitemlist()\n",
    "case.popup_storteddata['plotdomain']['plot_sampleprobes']    = case.listboxpopupwindict['listboxsampling'].getitemlist()\n",
    "case.plotDomain(ax=ax)"
   ]
  },
  {
   "cell_type": "code",
   "execution_count": 22,
   "metadata": {
    "collapsed": false,
    "deletable": true,
    "editable": true,
    "scrolled": false
   },
   "outputs": [
    {
     "name": "stdout",
     "output_type": "stream",
     "text": [
      "# --- Simulation time control parameters ---\n",
      "time.stop_time                           = 360.0               # Max (simulated) time to evolve [s]\n",
      "time.max_step                            = -1                  \n",
      "time.fixed_dt                            = 0.1                 # Fixed timestep size (in seconds). If negative, then time.cfl is used\n",
      "incflo.physics                           = FreeStream Actuator # List of physics models to include in simulation.\n",
      "incflo.verbose                           = 0                   \n",
      "io.check_file                            = chk                 \n",
      "incflo.use_godunov                       = true                \n",
      "incflo.godunov_type                      = weno_z              \n",
      "turbulence.model                         = Laminar             \n",
      "incflo.gravity                           = 0.0 0.0 -9.81       # Gravitational acceleration vector (x,y,z) [m/s^2]\n",
      "incflo.density                           = 1.0                 # Fluid density [kg/m^3]\n",
      "transport.viscosity                      = 1.872e-05           # Fluid dynamic viscosity [kg/m-s]\n",
      "transport.laminar_prandtl                = 0.7                 # Laminar prandtl number\n",
      "transport.turbulent_prandtl              = 0.3333              # Turbulent prandtl number\n",
      "ConstValue.density.value                 = 1.0                 \n",
      "ConstValue.velocity.value                = 11.0 0.0 0.0        \n",
      "\n",
      "# --- Geometry and Mesh ---\n",
      "geometry.prob_lo                         = -2560.0 -960.0 -960.0\n",
      "geometry.prob_hi                         = 2560.0 960.0 960.0  \n",
      "amr.n_cell                               = 256 96 96           # Number of cells in x, y, and z directions\n",
      "amr.max_level                            = 2                   \n",
      "geometry.is_periodic                     = 0 1 1               \n",
      "xlo.type                                 = mass_inflow         \n",
      "xlo.density                              = 1.0                 \n",
      "xlo.velocity                             = 11.0 0.0 0.0        \n",
      "xhi.type                                 = pressure_outflow    \n",
      "\n",
      "# --- ABL parameters ---\n",
      "ICNS.source_terms                        =    ActuatorForcing  \n",
      "incflo.velocity                          = 11.0 0.0 0.0        \n",
      "ABLForcing.abl_forcing_height            = 0.0                 \n",
      "time.plot_interval                       = 1000                \n",
      "io.plot_file                             = plt                 \n",
      "io.KE_int                                = -1                  \n",
      "incflo.post_processing                   = sampling            \n",
      "\n",
      "# --- Sampling parameters ---\n",
      "sampling.output_frequency                = 100                 \n",
      "sampling.fields                          = velocity            \n",
      "Actuator.type                            = JoukowskyDisk       \n",
      "Actuator.JoukowskyDisk.epsilon           = 5.0                 \n",
      "Actuator.JoukowskyDisk.num_blades        = 3                   # Number of wind turbine blades\n",
      "Actuator.JoukowskyDisk.vortex_core_size  = 24.0                \n",
      "Actuator.JoukowskyDisk.use_tip_correction = true                # Turn on tip correction\n",
      "Actuator.JoukowskyDisk.use_root_correction = true                # Turn on root correction\n",
      "\n",
      "#---- sample defs ----\n",
      "sampling.labels                          = Farm_hh             \n",
      "sampling.Farm_hh.type                    = PlaneSampler        \n",
      "sampling.Farm_hh.num_points              = 513 193             \n",
      "sampling.Farm_hh.origin                  = -2560.0 -960.0 0.0  \n",
      "sampling.Farm_hh.axis1                   = 5120.0 0.0 0.0      \n",
      "sampling.Farm_hh.axis2                   = 0.0 1920.0 0.0      \n",
      "sampling.Farm_hh.normal                  = 0.0 0.0 0.0         \n",
      "\n",
      "#---- tagging defs ----\n",
      "tagging.labels                           = Farm_level_0_zone Farm_level_1_zone\n",
      "tagging.Farm_level_0_zone.type           = GeometryRefinement  \n",
      "tagging.Farm_level_0_zone.shapes         = Farm_level_0_zone   \n",
      "tagging.Farm_level_0_zone.level          = 0                   \n",
      "tagging.Farm_level_0_zone.Farm_level_0_zone.type = box                 \n",
      "tagging.Farm_level_0_zone.Farm_level_0_zone.origin = -2400.0 -720.0 -480.0\n",
      "tagging.Farm_level_0_zone.Farm_level_0_zone.xaxis = 4800.0 0.0 0.0      \n",
      "tagging.Farm_level_0_zone.Farm_level_0_zone.yaxis = -0.0 1440.0 -0.0    \n",
      "tagging.Farm_level_0_zone.Farm_level_0_zone.zaxis = 0.0 0.0 960.0       \n",
      "tagging.Farm_level_1_zone.type           = GeometryRefinement  \n",
      "tagging.Farm_level_1_zone.shapes         = Farm_level_1_zone   \n",
      "tagging.Farm_level_1_zone.level          = 1                   \n",
      "tagging.Farm_level_1_zone.Farm_level_1_zone.type = box                 \n",
      "tagging.Farm_level_1_zone.Farm_level_1_zone.origin = -600.0 -600.0 -288.0\n",
      "tagging.Farm_level_1_zone.Farm_level_1_zone.xaxis = 1200.0 0.0 0.0      \n",
      "tagging.Farm_level_1_zone.Farm_level_1_zone.yaxis = -0.0 1200.0 -0.0    \n",
      "tagging.Farm_level_1_zone.Farm_level_1_zone.zaxis = 0.0 0.0 576.0       \n",
      "\n",
      "#---- actuator defs ----\n",
      "Actuator.labels                          = T0                  \n",
      "Actuator.T0.type                         = JoukowskyDisk       \n",
      "Actuator.T0.base_position                = 0.0 0.0 0.0         \n",
      "Actuator.T0.rotor_diameter               = 240.0               \n",
      "Actuator.T0.hub_height                   = 0.0                 \n",
      "Actuator.T0.yaw                          = 270.0               \n",
      "Actuator.T0.output_frequency             = 10                  \n",
      "Actuator.T0.diameters_to_sample          = 5.0                 \n",
      "Actuator.T0.thrust_coeff                 = 8.1672e-01 7.9044e-01 7.8393e-01 7.8624e-01 7.8824e-01 7.8942e-01 7.8902e-01 7.8740e-01 7.8503e-01 7.8237e-01 7.7955e-01 7.7583e-01 7.7583e-01 7.7583e-01 7.7583e-01 7.7583e-01 7.7583e-01 7.7583e-01 7.7583e-01 7.7583e-01 7.7583e-01 7.7583e-01 7.7583e-01 7.7583e-01 7.7583e-01 7.7583e-01 7.7583e-01 7.7583e-01 7.6922e-01 7.4270e-01 5.5949e-01 4.6163e-01 3.8786e-01 3.2901e-01 2.8093e-01 2.4114e-01 2.0795e-01 1.8010e-01 1.5663e-01 1.3679e-01 1.1995e-01 1.0562e-01 9.3384e-02 8.2908e-02 7.3910e-02 6.6159e-02 5.9463e-02 5.3662e-02 4.8622e-02 4.4230e-02\n",
      "Actuator.T0.wind_speed                   = 3.0000e+00 3.5495e+00 4.0679e+00 4.5539e+00 5.0064e+00 5.4244e+00 5.8069e+00 6.1530e+00 6.4619e+00 6.7330e+00 6.9655e+00 7.1589e+00 7.3128e+00 7.4269e+00 7.5009e+00 7.5345e+00 7.5412e+00 7.5883e+00 7.6757e+00 7.8031e+00 7.9702e+00 8.1767e+00 8.4221e+00 8.7059e+00 9.0273e+00 9.3856e+00 9.7800e+00 1.0210e+01 1.0659e+01 1.0673e+01 1.1170e+01 1.1699e+01 1.2259e+01 1.2848e+01 1.3465e+01 1.4109e+01 1.4778e+01 1.5471e+01 1.6185e+01 1.6921e+01 1.7674e+01 1.8445e+01 1.9231e+01 2.0030e+01 2.0841e+01 2.1661e+01 2.2489e+01 2.3323e+01 2.4160e+01 2.5000e+01\n",
      "Actuator.T0.rpm                          = 5.0000e+00 5.0000e+00 5.0000e+00 5.0000e+00 5.0000e+00 5.0000e+00 5.0000e+00 5.0000e+00 5.0000e+00 5.0000e+00 5.0000e+00 5.0861e+00 5.1954e+00 5.2765e+00 5.3290e+00 5.3529e+00 5.3577e+00 5.3912e+00 5.4532e+00 5.5437e+00 5.6625e+00 5.8092e+00 5.9836e+00 6.1851e+00 6.4135e+00 6.6681e+00 6.9483e+00 7.2535e+00 7.4992e+00 7.4992e+00 7.4992e+00 7.4992e+00 7.4992e+00 7.4992e+00 7.4992e+00 7.4992e+00 7.4992e+00 7.4992e+00 7.4992e+00 7.4992e+00 7.4992e+00 7.4992e+00 7.4992e+00 7.4992e+00 7.4992e+00 7.4992e+00 7.4992e+00 7.4992e+00 7.4992e+00 7.4992e+00\n",
      "Actuator.T0.num_points_r                 = 40                  \n",
      "Actuator.T0.num_points_t                 = 5                   \n",
      "Actuator.T0.num_blades                   = 3                   \n",
      "Actuator.T0.use_tip_correction           = true                \n",
      "Actuator.T0.use_root_correction          = true                \n",
      "\n",
      "#---- extra params ----\n",
      "#== END AMR-WIND INPUT ==\n",
      "\n"
     ]
    }
   ],
   "source": [
    "print(case.writeAMRWindInput(''))"
   ]
  },
  {
   "cell_type": "code",
   "execution_count": 23,
   "metadata": {
    "collapsed": true,
    "deletable": true,
    "editable": true
   },
   "outputs": [],
   "source": [
    "# Clean up the temporary directory\n",
    "docleanup = True\n",
    "os.chdir(curdir)\n",
    "if docleanup:\n",
    "    try:\n",
    "        shutil.rmtree(tempdir)\n",
    "    except:\n",
    "        print(\"Error cleaning up: \"+tempdir)"
   ]
  },
  {
   "cell_type": "markdown",
   "metadata": {
    "deletable": true,
    "editable": true
   },
   "source": [
    "## Set up a wind sweep"
   ]
  },
  {
   "cell_type": "code",
   "execution_count": 24,
   "metadata": {
    "collapsed": true,
    "deletable": true,
    "editable": true
   },
   "outputs": [],
   "source": [
    "# Set the parameters\n",
    "case.setAMRWindInput('sweep_windspeeds', '7 9 10 11')\n",
    "case.setAMRWindInput('sweep_winddirs',   '270')\n",
    "case.setAMRWindInput('sweep_caseprefix', 'CalibrateIEA15MW_{CASENUM}_EPS%0.2f_WS_{WS}'%eps)\n",
    "case.setAMRWindInput('sweep_dirprefix',  'CalibrateIEA15MW_{CASENUM}_EPS%0.2f_WS_{WS}'%eps)\n",
    "case.setAMRWindInput('sweep_usenewdirs', True)\n",
    "case.setAMRWindInput('sweep_logfile',    'RunCalibration_Eps%0.2f_logfile.yaml'%eps)"
   ]
  },
  {
   "cell_type": "code",
   "execution_count": 25,
   "metadata": {
    "collapsed": true,
    "deletable": true,
    "editable": true
   },
   "outputs": [],
   "source": [
    "# Submission parameters\n",
    "case.popup_storteddata['submitscript']['submitscript_numnodes'] = 10\n",
    "case.popup_storteddata['submitscript']['submitscript_runtime']  = '8:00:00'\n",
    "case.popup_storteddata['submitscript']['submitscript_wcid']     = 'fy210193'\n",
    "case.popup_storteddata['submitscript']['submitscript_partition']= 'batch'\n",
    "case.popup_storteddata['submitscript']['submitscript_corespernode'] = 16\n",
    "case.popup_storteddata['submitscript']['submitscript_queue']    = 'normal'\n",
    "case.popup_storteddata['submitscript']['submitscript_jobname']  = 'IEA15MW'\n",
    "\n",
    "case.setAMRWindInput('sweep_createsubmitscript', True)\n",
    "case.setAMRWindInput('sweep_submitjob',          True)"
   ]
  },
  {
   "cell_type": "code",
   "execution_count": 26,
   "metadata": {
    "collapsed": false,
    "deletable": true,
    "editable": true
   },
   "outputs": [
    {
     "name": "stdout",
     "output_type": "stream",
     "text": [
      "       NUM           WS         WDir            Case name\n",
      "       ---           --         ----            ---------\n",
      "         0      7.00000    270.00000 CalibrateIEA15MW_0_EPS5.00_WS_7.0\n",
      "Saved CalibrateIEA15MW_0_EPS5.00_WS_7.0.sh\n",
      "Executing: sbatch CalibrateIEA15MW_0_EPS5.00_WS_7.0.sh\n",
      "sbatch: INFO: Adding filesystem licenses to job: gpfs:1,nscratch:1,pscratch:1\n",
      "Submitted batch job 28127286\n",
      "\n",
      "         1      9.00000    270.00000 CalibrateIEA15MW_1_EPS5.00_WS_9.0\n",
      "Saved CalibrateIEA15MW_1_EPS5.00_WS_9.0.sh\n",
      "Executing: sbatch CalibrateIEA15MW_1_EPS5.00_WS_9.0.sh\n",
      "sbatch: INFO: Adding filesystem licenses to job: gpfs:1,nscratch:1,pscratch:1\n",
      "Submitted batch job 28127287\n",
      "\n",
      "         2     10.00000    270.00000 CalibrateIEA15MW_2_EPS5.00_WS_10.0\n",
      "Saved CalibrateIEA15MW_2_EPS5.00_WS_10.0.sh\n",
      "Executing: sbatch CalibrateIEA15MW_2_EPS5.00_WS_10.0.sh\n",
      "sbatch: INFO: Adding filesystem licenses to job: gpfs:1,nscratch:1,pscratch:1\n",
      "Submitted batch job 28127288\n",
      "\n",
      "         3     11.00000    270.00000 CalibrateIEA15MW_3_EPS5.00_WS_11.0\n",
      "Saved CalibrateIEA15MW_3_EPS5.00_WS_11.0.sh\n",
      "Executing: sbatch CalibrateIEA15MW_3_EPS5.00_WS_11.0.sh\n",
      "sbatch: INFO: Adding filesystem licenses to job: gpfs:1,nscratch:1,pscratch:1\n",
      "Submitted batch job 28127289\n",
      "\n"
     ]
    }
   ],
   "source": [
    "# Set up the cases\n",
    "case.sweep_SetupRunParamSweep(verbose=True)"
   ]
  },
  {
   "cell_type": "markdown",
   "metadata": {
    "deletable": true,
    "editable": true
   },
   "source": [
    "### Save the calibration"
   ]
  },
  {
   "cell_type": "code",
   "execution_count": 27,
   "metadata": {
    "collapsed": false,
    "deletable": true,
    "editable": true
   },
   "outputs": [
    {
     "name": "stdout",
     "output_type": "stream",
     "text": [
      "Saved farm setup to TurbineCalibrate_IEA15MW_Eps5.00.yaml\n"
     ]
    }
   ],
   "source": [
    "# Save the wind farm setup\n",
    "case.setAMRWindInput('farm_usercomments', 'Test calibration process.')\n",
    "case.writeFarmSetupYAML('TurbineCalibrate_IEA15MW_Eps%0.2f.yaml'%eps)"
   ]
  }
 ],
 "metadata": {
  "kernelspec": {
   "display_name": "Python 2",
   "language": "python",
   "name": "python2"
  },
  "language_info": {
   "codemirror_mode": {
    "name": "ipython",
    "version": 2
   },
   "file_extension": ".py",
   "mimetype": "text/x-python",
   "name": "python",
   "nbconvert_exporter": "python",
   "pygments_lexer": "ipython2",
   "version": "2.7.13"
  }
 },
 "nbformat": 4,
 "nbformat_minor": 2
}
